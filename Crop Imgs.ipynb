{
 "cells": [
  {
   "cell_type": "code",
   "execution_count": 1,
   "metadata": {},
   "outputs": [],
   "source": [
    "import cv2"
   ]
  },
  {
   "cell_type": "code",
   "execution_count": 2,
   "metadata": {},
   "outputs": [],
   "source": [
    "# x = 0\n",
    "# y = 0\n",
    "# filename = \"201405061030\"\n",
    "# img = cv2.imread(filename+\".jpg\")\n",
    "# crop_img = img[y+40:-45, :]\n",
    "# cv2.imshow(\"cropped\", crop_img)\n",
    "# cv2.waitKey(0)\n",
    "# cv2.destroyAllWindows()"
   ]
  },
  {
   "cell_type": "code",
   "execution_count": 3,
   "metadata": {},
   "outputs": [],
   "source": [
    "# cv2.imwrite(filename+'_cropped.jpg',crop_img)"
   ]
  },
  {
   "cell_type": "code",
   "execution_count": 4,
   "metadata": {},
   "outputs": [],
   "source": [
    "import os"
   ]
  },
  {
   "cell_type": "code",
   "execution_count": 5,
   "metadata": {},
   "outputs": [],
   "source": [
    "root = \"/Users/jo/jO's Stuff/PM Image Analysis/Smog Images ASU/\""
   ]
  },
  {
   "cell_type": "code",
   "execution_count": 6,
   "metadata": {},
   "outputs": [],
   "source": [
    "folders = [\n",
    "#     'Phoenix1',\n",
    "#     'Phoenix2',\n",
    "#     'Phoenix3',\n",
    "#     'Phoenix4',\n",
    "    'Shanghai1',\n",
    "    'Shanghai2',\n",
    "    'Shanghai3'\n",
    "]"
   ]
  },
  {
   "cell_type": "code",
   "execution_count": 7,
   "metadata": {},
   "outputs": [],
   "source": [
    "x = 0\n",
    "y = 0\n",
    "for folder in folders:\n",
    "    os.chdir(root+folder)\n",
    "    images = os.listdir()\n",
    "    for image in images:\n",
    "        img = cv2.imread(image)\n",
    "        cv2.imwrite(image,img[y+40:-45, :])"
   ]
  },
  {
   "cell_type": "code",
   "execution_count": 8,
   "metadata": {
    "collapsed": true
   },
   "outputs": [],
   "source": [
    "# croppedImages = []"
   ]
  },
  {
   "cell_type": "code",
   "execution_count": 9,
   "metadata": {},
   "outputs": [],
   "source": [
    "# x = 0\n",
    "# y = 0\n",
    "# for folder in folders:\n",
    "#     os.chdir(root+folder)\n",
    "#     images = os.listdir()\n",
    "#     for image in images:\n",
    "#         img = cv2.imread(image)\n",
    "#         croppedImages.append(img[y:y+459, :])\n",
    "#     os.chdir(root+\"Cropped_Images\")\n",
    "#     os.makedirs(folder, exist_ok=True)\n",
    "#     os.chdir(root+\"Cropped_Images/\"+folder)\n",
    "#     for i in range(len(croppedImages)):\n",
    "#         cv2.imwrite(images[i],croppedImages[i])"
   ]
  },
  {
   "cell_type": "code",
   "execution_count": null,
   "metadata": {
    "collapsed": true
   },
   "outputs": [],
   "source": []
  }
 ],
 "metadata": {
  "kernelspec": {
   "display_name": "Python 3",
   "language": "python",
   "name": "python3"
  },
  "language_info": {
   "codemirror_mode": {
    "name": "ipython",
    "version": 3
   },
   "file_extension": ".py",
   "mimetype": "text/x-python",
   "name": "python",
   "nbconvert_exporter": "python",
   "pygments_lexer": "ipython3",
   "version": "3.6.3"
  }
 },
 "nbformat": 4,
 "nbformat_minor": 2
}
